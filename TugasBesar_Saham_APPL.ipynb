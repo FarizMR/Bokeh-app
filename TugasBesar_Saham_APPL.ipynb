{
 "cells": [
  {
   "cell_type": "code",
   "execution_count": 1,
   "metadata": {},
   "outputs": [],
   "source": [
    "# Data handling\n",
    "import pandas as pd\n",
    "import numpy as np\n",
    "import matplotlib.pyplot as plt\n",
    "\n",
    "# Bokeh libraries\n",
    "from bokeh.io import output_file, output_notebook, curdoc\n",
    "from bokeh.plotting import figure, show\n",
    "from bokeh.models import ColumnDataSource\n",
    "from bokeh.layouts import row, column, gridplot\n",
    "from bokeh.models.widgets import Tabs, Panel\n",
    "from bokeh.plotting import figure\n",
    "from bokeh.models import HoverTool, ColumnDataSource"
   ]
  },
  {
   "cell_type": "code",
   "execution_count": 2,
   "metadata": {},
   "outputs": [
    {
     "name": "stdout",
     "output_type": "stream",
     "text": [
      "        Date     Volume\n",
      "0  2/28/2020  106721200\n",
      "1  2/27/2020   80151380\n",
      "2  2/26/2020   49678430\n",
      "3  2/25/2020   57668360\n",
      "4  2/24/2020   55548830\n"
     ]
    }
   ],
   "source": [
    "#Read Data CSV\n",
    "df_stock = pd.read_csv(\"Volume.csv\")\n",
    "print(df_stock.head())"
   ]
  },
  {
   "cell_type": "code",
   "execution_count": 3,
   "metadata": {},
   "outputs": [
    {
     "name": "stdout",
     "output_type": "stream",
     "text": [
      "<class 'pandas.core.frame.DataFrame'>\n",
      "RangeIndex: 2518 entries, 0 to 2517\n",
      "Data columns (total 2 columns):\n",
      " #   Column  Non-Null Count  Dtype         \n",
      "---  ------  --------------  -----         \n",
      " 0   Date    2518 non-null   datetime64[ns]\n",
      " 1   Volume  2518 non-null   int64         \n",
      "dtypes: datetime64[ns](1), int64(1)\n",
      "memory usage: 39.5 KB\n",
      "None\n"
     ]
    }
   ],
   "source": [
    "#Liat tipe data dari kolom Volume\n",
    "df_stock['Date'] = pd.to_datetime(df_stock.Date)\n",
    "print(df_stock.info())"
   ]
  },
  {
   "cell_type": "code",
   "execution_count": 4,
   "metadata": {},
   "outputs": [],
   "source": [
    "#Inisialisasi ke dataframe yang khusus menampung kolom volume\n",
    "df_appl = df_stock['Volume']"
   ]
  },
  {
   "cell_type": "code",
   "execution_count": 12,
   "metadata": {},
   "outputs": [
    {
     "data": {
      "text/html": [
       "<div>\n",
       "<style scoped>\n",
       "    .dataframe tbody tr th:only-of-type {\n",
       "        vertical-align: middle;\n",
       "    }\n",
       "\n",
       "    .dataframe tbody tr th {\n",
       "        vertical-align: top;\n",
       "    }\n",
       "\n",
       "    .dataframe thead th {\n",
       "        text-align: right;\n",
       "    }\n",
       "</style>\n",
       "<table border=\"1\" class=\"dataframe\">\n",
       "  <thead>\n",
       "    <tr style=\"text-align: right;\">\n",
       "      <th></th>\n",
       "      <th>Date</th>\n",
       "      <th>Volume</th>\n",
       "    </tr>\n",
       "  </thead>\n",
       "  <tbody>\n",
       "    <tr>\n",
       "      <th>0</th>\n",
       "      <td>2020-02-28</td>\n",
       "      <td>106721200</td>\n",
       "    </tr>\n",
       "    <tr>\n",
       "      <th>1</th>\n",
       "      <td>2020-02-27</td>\n",
       "      <td>80151380</td>\n",
       "    </tr>\n",
       "    <tr>\n",
       "      <th>2</th>\n",
       "      <td>2020-02-26</td>\n",
       "      <td>49678430</td>\n",
       "    </tr>\n",
       "    <tr>\n",
       "      <th>3</th>\n",
       "      <td>2020-02-25</td>\n",
       "      <td>57668360</td>\n",
       "    </tr>\n",
       "    <tr>\n",
       "      <th>4</th>\n",
       "      <td>2020-02-24</td>\n",
       "      <td>55548830</td>\n",
       "    </tr>\n",
       "    <tr>\n",
       "      <th>...</th>\n",
       "      <td>...</td>\n",
       "      <td>...</td>\n",
       "    </tr>\n",
       "    <tr>\n",
       "      <th>2513</th>\n",
       "      <td>2010-03-05</td>\n",
       "      <td>224647427</td>\n",
       "    </tr>\n",
       "    <tr>\n",
       "      <th>2514</th>\n",
       "      <td>2010-03-04</td>\n",
       "      <td>89591907</td>\n",
       "    </tr>\n",
       "    <tr>\n",
       "      <th>2515</th>\n",
       "      <td>2010-03-03</td>\n",
       "      <td>92846488</td>\n",
       "    </tr>\n",
       "    <tr>\n",
       "      <th>2516</th>\n",
       "      <td>2010-03-02</td>\n",
       "      <td>141486282</td>\n",
       "    </tr>\n",
       "    <tr>\n",
       "      <th>2517</th>\n",
       "      <td>2010-03-01</td>\n",
       "      <td>137312041</td>\n",
       "    </tr>\n",
       "  </tbody>\n",
       "</table>\n",
       "<p>2518 rows × 2 columns</p>\n",
       "</div>"
      ],
      "text/plain": [
       "           Date     Volume\n",
       "0    2020-02-28  106721200\n",
       "1    2020-02-27   80151380\n",
       "2    2020-02-26   49678430\n",
       "3    2020-02-25   57668360\n",
       "4    2020-02-24   55548830\n",
       "...         ...        ...\n",
       "2513 2010-03-05  224647427\n",
       "2514 2010-03-04   89591907\n",
       "2515 2010-03-03   92846488\n",
       "2516 2010-03-02  141486282\n",
       "2517 2010-03-01  137312041\n",
       "\n",
       "[2518 rows x 2 columns]"
      ]
     },
     "execution_count": 12,
     "metadata": {},
     "output_type": "execute_result"
    }
   ],
   "source": [
    "df_stock"
   ]
  },
  {
   "cell_type": "code",
   "execution_count": 5,
   "metadata": {},
   "outputs": [],
   "source": [
    "#Inisialisasi kedalam bentuk CDS agar dapat ditampilkan di figure\n",
    "cds_appl = ColumnDataSource(df_stock)"
   ]
  },
  {
   "cell_type": "markdown",
   "metadata": {},
   "source": [
    "## Pembuatan Figure\n"
   ]
  },
  {
   "cell_type": "code",
   "execution_count": 6,
   "metadata": {},
   "outputs": [],
   "source": [
    "#Melakukan pembuatan figur dengan X-axis = Date dan Y-axis = Volume\n",
    "fig = figure(x_axis_type='datetime',\n",
    "                  plot_height=600,\n",
    "                  plot_width= 950,\n",
    "                  x_axis_label='Date',\n",
    "                  y_axis_label='Volume',\n",
    "                  title='Volume')"
   ]
  },
  {
   "cell_type": "code",
   "execution_count": 7,
   "metadata": {
    "tags": []
   },
   "outputs": [],
   "source": [
    "#Menentukan warna, dan source dari garis figur\n",
    "fig.line(x='Date', y='Volume', \n",
    "        color='red', legend_label='APPL Volume',\n",
    "        source=df_stock)\n",
    "\n",
    "fig.legend.location = 'top_left'"
   ]
  },
  {
   "cell_type": "markdown",
   "metadata": {},
   "source": [
    "## Pembuatan Hover\n"
   ]
  },
  {
   "cell_type": "code",
   "execution_count": 8,
   "metadata": {},
   "outputs": [],
   "source": [
    "hov_appl = fig.circle(x='Date', y='Volume', source=cds_appl ,size=15, alpha=0, hover_fill_color='blue', hover_alpha=0.5)"
   ]
  },
  {
   "cell_type": "code",
   "execution_count": 9,
   "metadata": {},
   "outputs": [],
   "source": [
    "tooltips = [\n",
    "            ('Date', '@Date{%F}'),\n",
    "            ('Volume', '@Volume'),\n",
    "           ]\n",
    "fig.add_tools(HoverTool(tooltips=tooltips, formatters={'@Date': 'datetime'}, renderers=[hov_appl]))"
   ]
  },
  {
   "cell_type": "code",
   "execution_count": 10,
   "metadata": {},
   "outputs": [],
   "source": [
    "curdoc().add_root(column(fig))"
   ]
  },
  {
   "cell_type": "code",
   "execution_count": 11,
   "metadata": {},
   "outputs": [],
   "source": [
    "show(fig)"
   ]
  }
 ],
 "metadata": {
  "interpreter": {
   "hash": "18e82d0ee154293c2e50d01daf53867a0c448e9e92b7353cd8ad009e57fcec84"
  },
  "kernelspec": {
   "display_name": "Python 3 (ipykernel)",
   "language": "python",
   "name": "python3"
  },
  "language_info": {
   "codemirror_mode": {
    "name": "ipython",
    "version": 3
   },
   "file_extension": ".py",
   "mimetype": "text/x-python",
   "name": "python",
   "nbconvert_exporter": "python",
   "pygments_lexer": "ipython3",
   "version": "3.9.7"
  }
 },
 "nbformat": 4,
 "nbformat_minor": 4
}
